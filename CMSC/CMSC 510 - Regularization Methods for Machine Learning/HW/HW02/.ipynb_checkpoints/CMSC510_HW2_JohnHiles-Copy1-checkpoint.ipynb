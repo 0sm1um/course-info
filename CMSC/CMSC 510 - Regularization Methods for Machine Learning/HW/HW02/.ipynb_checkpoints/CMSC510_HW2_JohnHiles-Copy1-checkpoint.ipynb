{
 "cells": [
  {
   "cell_type": "markdown",
   "id": "c4932ad1",
   "metadata": {},
   "source": [
    "import libraries"
   ]
  },
  {
   "cell_type": "code",
   "execution_count": 3,
   "id": "64ba4ee1",
   "metadata": {
    "scrolled": true
   },
   "outputs": [],
   "source": [
    "import numpy as np\n",
    "import matplotlib.pyplot as plt\n",
    "import pandas as pd;\n",
    "from scipy.stats import zscore\n",
    "import torch as torch\n",
    "import torch.nn as nn"
   ]
  },
  {
   "cell_type": "markdown",
   "id": "7483ab80",
   "metadata": {},
   "source": [
    "Excercise #2: \n",
    "\n",
    "Cross Entropy Loss"
   ]
  },
  {
   "cell_type": "code",
   "execution_count": 4,
   "id": "e9247a10",
   "metadata": {},
   "outputs": [],
   "source": [
    "fulldataset = pd.read_csv('./iris.csv')\n",
    "\n",
    "np_x=fulldataset[list(fulldataset.columns)[0:-1]].apply(zscore).to_numpy();\n",
    "np_y = pd.get_dummies(fulldataset['variety']).to_numpy();\n",
    "\n",
    "n_classes = 3;\n",
    "n_features = np_x.shape[1];\n",
    "\n",
    "x_train=np_x\n",
    "y_train=np_y\n",
    "\n"
   ]
  },
  {
   "cell_type": "markdown",
   "id": "e5ca0e35",
   "metadata": {},
   "source": [
    "Now to create our tensor of input variables."
   ]
  },
  {
   "cell_type": "code",
   "execution_count": 5,
   "id": "34bc8e93",
   "metadata": {},
   "outputs": [],
   "source": [
    "t_x_train=torch.tensor(x_train,requires_grad=False,dtype=torch.float64,device='cpu');\n",
    "t_y_train=torch.tensor(y_train,requires_grad=False,dtype=torch.float64,device='cpu');"
   ]
  },
  {
   "cell_type": "markdown",
   "id": "4b67ce2a",
   "metadata": {},
   "source": [
    "Initialize variables for Gradient Descent:"
   ]
  },
  {
   "cell_type": "code",
   "execution_count": 6,
   "id": "d629f77c",
   "metadata": {},
   "outputs": [],
   "source": [
    "init_std_dev = 0.01;\n",
    "initialW=init_std_dev*np.random.randn(n_features,n_classes)"
   ]
  },
  {
   "cell_type": "markdown",
   "id": "897cab64",
   "metadata": {},
   "source": [
    "Creating variables for weights:"
   ]
  },
  {
   "cell_type": "code",
   "execution_count": 7,
   "id": "c96457e3",
   "metadata": {},
   "outputs": [],
   "source": [
    "W = torch.tensor(initialW,requires_grad=True,device='cpu');\n",
    "b = torch.zeros((1,n_classes),requires_grad=True,device='cpu');"
   ]
  },
  {
   "cell_type": "markdown",
   "id": "88e3106d",
   "metadata": {},
   "source": [
    "I heard ADAM was the best optimizer so I'm gonna use that."
   ]
  },
  {
   "cell_type": "code",
   "execution_count": 8,
   "id": "804071f9",
   "metadata": {},
   "outputs": [],
   "source": [
    "# this optimizer will do gradient descent for us\n",
    "learning_rate = 0.0001;\n",
    "optimizer = torch.optim.Adam([W,b],lr=learning_rate)"
   ]
  },
  {
   "cell_type": "markdown",
   "id": "275aca41",
   "metadata": {},
   "source": [
    "Lets run a loop!"
   ]
  },
  {
   "cell_type": "code",
   "execution_count": 10,
   "id": "53c000e9",
   "metadata": {
    "scrolled": false
   },
   "outputs": [
    {
     "name": "stdout",
     "output_type": "stream",
     "text": [
      "tensor(0.4748, dtype=torch.float64, grad_fn=<DivBackward1>)\n",
      "tensor(0.4262, dtype=torch.float64, grad_fn=<DivBackward1>)\n",
      "tensor(0.3862, dtype=torch.float64, grad_fn=<DivBackward1>)\n",
      "tensor(0.3519, dtype=torch.float64, grad_fn=<DivBackward1>)\n",
      "tensor(0.3216, dtype=torch.float64, grad_fn=<DivBackward1>)\n",
      "tensor(0.2944, dtype=torch.float64, grad_fn=<DivBackward1>)\n",
      "5641 0.27862143719733146 0.9533333333333334\n"
     ]
    }
   ],
   "source": [
    "n_epochs = 100000; #Desired maximum iterations\n",
    "tol = 0.95 # Desired Accuracy\n",
    "i = 0\n",
    "accuracy = 0\n",
    "lossModel = nn.CrossEntropyLoss()\n",
    "sm = nn.Softmax(dim=0)\n",
    "while accuracy < tol and i < n_epochs:\n",
    "    # clear previous gradient calculations\n",
    "    optimizer.zero_grad();\n",
    "    # calculate model predictions\n",
    "    linear_predictions = torch.matmul(t_x_train,W)+b\n",
    "    activations = 1.0 / (1.0 + torch.exp(-linear_predictions));\n",
    "    norm_predictions = sm(linear_predictions)\n",
    "    #calculate loss\n",
    "    loss = lossModel(linear_predictions, t_y_train)\n",
    "    if i % 1000 == 0:\n",
    "        print(loss)\n",
    "    risk = torch.mean(loss)\n",
    "    #calculate gradients of risk w.r.t. W,b and propagate them back\n",
    "    loss.backward();\n",
    "    # use the gradient to change W, b\n",
    "    optimizer.step();\n",
    "    # calculate accuracy (on the training set!)\n",
    "    true_class = np.argmax(t_y_train.detach().cpu().numpy(),axis=1)\n",
    "    pred_class = np.argmax(activations.detach().cpu().numpy(),axis=1)\n",
    "    accuracy = np.count_nonzero(true_class == pred_class)/pred_class.shape[0];\n",
    "    error = 1.0 - accuracy;\n",
    "    i = i+1\n",
    "\n",
    "print(i,risk.item(),accuracy)"
   ]
  },
  {
   "cell_type": "code",
   "execution_count": null,
   "id": "f6bf5315",
   "metadata": {},
   "outputs": [],
   "source": []
  },
  {
   "cell_type": "code",
   "execution_count": null,
   "id": "376ab9b7",
   "metadata": {},
   "outputs": [],
   "source": []
  }
 ],
 "metadata": {
  "kernelspec": {
   "display_name": "Python 3 (ipykernel)",
   "language": "python",
   "name": "python3"
  },
  "language_info": {
   "codemirror_mode": {
    "name": "ipython",
    "version": 3
   },
   "file_extension": ".py",
   "mimetype": "text/x-python",
   "name": "python",
   "nbconvert_exporter": "python",
   "pygments_lexer": "ipython3",
   "version": "3.10.6"
  }
 },
 "nbformat": 4,
 "nbformat_minor": 5
}

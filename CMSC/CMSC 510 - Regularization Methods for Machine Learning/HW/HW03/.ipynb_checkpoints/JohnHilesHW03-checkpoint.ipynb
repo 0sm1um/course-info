{
 "cells": [
  {
   "cell_type": "markdown",
   "id": "c4932ad1",
   "metadata": {},
   "source": [
    "import libraries"
   ]
  },
  {
   "cell_type": "code",
   "execution_count": 2,
   "id": "64ba4ee1",
   "metadata": {
    "scrolled": true
   },
   "outputs": [
    {
     "name": "stderr",
     "output_type": "stream",
     "text": [
      "C:\\Users\\echo4\\.conda\\envs\\pt\\lib\\site-packages\\scipy\\__init__.py:146: UserWarning: A NumPy version >=1.16.5 and <1.23.0 is required for this version of SciPy (detected version 1.23.1\n",
      "  warnings.warn(f\"A NumPy version >={np_minversion} and <{np_maxversion}\"\n"
     ]
    }
   ],
   "source": [
    "import numpy as np\n",
    "import matplotlib.pyplot as plt\n",
    "import tensorflow as tf\n",
    "from tensorflow import keras\n",
    "from tensorflow.keras import regularizers\n",
    "from keras.datasets import mnist\n"
   ]
  },
  {
   "cell_type": "markdown",
   "id": "7483ab80",
   "metadata": {},
   "source": [
    "# HW03: Tensorflow"
   ]
  },
  {
   "cell_type": "markdown",
   "id": "e5ca0e35",
   "metadata": {},
   "source": [
    "I was unable to sucsessfully implement a working accuracy metric. As a result, to avoid being totally unable to complete the project I rewrote my project using the keras interface and built in functions despite the fact this was not the point of the project."
   ]
  },
  {
   "cell_type": "markdown",
   "id": "658aed68",
   "metadata": {},
   "source": [
    "Data Pre Processing:"
   ]
  },
  {
   "cell_type": "code",
   "execution_count": 2,
   "id": "e9247a10",
   "metadata": {},
   "outputs": [],
   "source": [
    "mnist = keras.datasets.mnist\n",
    "\n",
    "(x_train_raw, y_train_raw),(x_test_raw, y_test_raw) = mnist.load_data()\n",
    "\n",
    "# V = V00836246, therefore our classes are 4 and 6 \n",
    "\n",
    "# Note that this block of code grabs all of the 28x28 images which are either a 4 or a 6, and discards the rest.\n",
    "x_train_new, y_train_new = x_train_raw[(y_train_raw==4) | (y_train_raw==6)], y_train_raw[(y_train_raw==4) | (y_train_raw==6)]\n",
    "x_train_final = x_train_new.reshape((-1, 784))\n",
    "# Here we print the first ten datapoints to ensure our dataset is properly pruned.\n",
    "\n",
    "# Here we apply the same procedure to the testing data.\n",
    "x_test_new, y_test_new = x_test_raw[(y_test_raw==4) | (y_test_raw==6)], y_test_raw[(y_test_raw==4) | (y_test_raw==6)]\n",
    "x_test_final = x_test_new.reshape((-1, 784))\n",
    "\n",
    "# One last bit of data preprocessing. First we normalize the pixels of the x data:\n",
    "\n",
    "x_train_norm = x_train_final / 255\n",
    "x_test_norm = x_test_final / 255\n",
    "\n",
    "# Next I want to transform the y training from 4s and 6s into boolean true and false statements. 4 being false, and\n",
    "# 6 being true. This distinction is arbitrary.\n",
    "y_train_final = np.zeros(y_train_new.shape[0])\n",
    "y_test_final = np.zeros(y_test_new.shape[0])\n",
    "threshold = 5\n",
    "for i in range(y_train_new.shape[0]):\n",
    "        if y_train_new[i]>threshold:\n",
    "            y_train_final[i] = True\n",
    "        else:\n",
    "            y_train_final[i] = False\n",
    "for i in range(y_test_new.shape[0]):\n",
    "        if y_test_new[i]>threshold:\n",
    "            y_test_final[i] = True\n",
    "        else:\n",
    "            y_test_final[i] = False\n",
    "    \n",
    "# Finally, we convert the y data into tensors.\n",
    "y_train_final = tf.convert_to_tensor(y_train_final,dtype='bool')\n",
    "y_test_final = tf.convert_to_tensor(y_test_final,dtype='bool')"
   ]
  },
  {
   "cell_type": "markdown",
   "id": "909cefda",
   "metadata": {},
   "source": [
    "The model used here is a simple linear predictor, which is confiugured to accept vectors of size 784 (28x28 pixels flattened). \n",
    "\n",
    "The linear activation parameter specifies that nothing will be done to the inputs before they are passed into the linear model.\n",
    "\n",
    "We are using an L2 regularizer on the kernal but not the bias term as specified in the problem. The L2 parameter is configurable as well as the learning rate of the optimizer. For this first example, lets set the regulizer to a weight of 0, meaning it should not apply any penalties."
   ]
  },
  {
   "cell_type": "code",
   "execution_count": 3,
   "id": "84ea2e5e",
   "metadata": {},
   "outputs": [
    {
     "name": "stdout",
     "output_type": "stream",
     "text": [
      "Epoch 1/10\n",
      "245/245 [==============================] - 2s 3ms/step - loss: 0.6132 - accuracy: 0.7906\n",
      "Epoch 2/10\n",
      "245/245 [==============================] - 1s 3ms/step - loss: 0.2844 - accuracy: 0.9105\n",
      "Epoch 3/10\n",
      "245/245 [==============================] - 1s 3ms/step - loss: 0.1992 - accuracy: 0.9409\n",
      "Epoch 4/10\n",
      "245/245 [==============================] - 1s 3ms/step - loss: 0.1511 - accuracy: 0.9558\n",
      "Epoch 5/10\n",
      "245/245 [==============================] - 1s 3ms/step - loss: 0.1220 - accuracy: 0.9662\n",
      "Epoch 6/10\n",
      "245/245 [==============================] - 1s 3ms/step - loss: 0.1050 - accuracy: 0.9719\n",
      "Epoch 7/10\n",
      "245/245 [==============================] - 1s 3ms/step - loss: 0.0920 - accuracy: 0.9754\n",
      "Epoch 8/10\n",
      "245/245 [==============================] - 1s 3ms/step - loss: 0.0818 - accuracy: 0.9784\n",
      "Epoch 9/10\n",
      "245/245 [==============================] - 1s 3ms/step - loss: 0.0743 - accuracy: 0.9804\n",
      "Epoch 10/10\n",
      "245/245 [==============================] - 1s 3ms/step - loss: 0.0730 - accuracy: 0.9812\n"
     ]
    },
    {
     "data": {
      "text/plain": [
       "<keras.callbacks.History at 0x20e2ef662f0>"
      ]
     },
     "execution_count": 3,
     "metadata": {},
     "output_type": "execute_result"
    }
   ],
   "source": [
    "model = keras.Sequential(\n",
    "  tf.keras.layers.Dense(1, input_shape=(784,), activation='linear', kernel_regularizer=regularizers.l2(0.0))\n",
    ")\n",
    "\n",
    "model.compile(tf.keras.optimizers.Adam(learning_rate=0.0001), loss='binary_crossentropy', metrics=['accuracy'])\n",
    "\n",
    "model.fit(\n",
    "  x=x_train_norm,\n",
    "  y=y_train_final,\n",
    "  shuffle=True,\n",
    "  epochs=10,\n",
    "  batch_size=48\n",
    ")"
   ]
  },
  {
   "cell_type": "markdown",
   "id": "337c8bd3",
   "metadata": {},
   "source": [
    "On the training data, without any regularization we fairly quick learning. In 5 epochs we attain ~85% accuracy."
   ]
  },
  {
   "cell_type": "code",
   "execution_count": 4,
   "id": "89664df5",
   "metadata": {},
   "outputs": [
    {
     "name": "stdout",
     "output_type": "stream",
     "text": [
      "61/61 [==============================] - 1s 3ms/step - loss: 0.1396 - accuracy: 0.9809\n"
     ]
    }
   ],
   "source": [
    "eval = model.evaluate(x=x_test_norm, y=y_test_final)"
   ]
  },
  {
   "cell_type": "markdown",
   "id": "86942392",
   "metadata": {},
   "source": [
    "Lets try again with regularization. I am putting a very small regularization weight."
   ]
  },
  {
   "cell_type": "code",
   "execution_count": 5,
   "id": "0bc585f0",
   "metadata": {
    "scrolled": false
   },
   "outputs": [
    {
     "name": "stdout",
     "output_type": "stream",
     "text": [
      "Epoch 1/10\n",
      "245/245 [==============================] - 2s 3ms/step - loss: 1.0285 - accuracy: 0.7188\n",
      "Epoch 2/10\n",
      "245/245 [==============================] - 1s 3ms/step - loss: 0.4154 - accuracy: 0.8411\n",
      "Epoch 3/10\n",
      "245/245 [==============================] - 1s 3ms/step - loss: 0.2834 - accuracy: 0.8937\n",
      "Epoch 4/10\n",
      "245/245 [==============================] - 1s 3ms/step - loss: 0.2187 - accuracy: 0.9259\n",
      "Epoch 5/10\n",
      "245/245 [==============================] - 1s 3ms/step - loss: 0.1820 - accuracy: 0.9433\n",
      "Epoch 6/10\n",
      "245/245 [==============================] - 1s 3ms/step - loss: 0.1590 - accuracy: 0.9524\n",
      "Epoch 7/10\n",
      "245/245 [==============================] - 1s 3ms/step - loss: 0.1443 - accuracy: 0.9585\n",
      "Epoch 8/10\n",
      "245/245 [==============================] - 1s 3ms/step - loss: 0.1315 - accuracy: 0.9642\n",
      "Epoch 9/10\n",
      "245/245 [==============================] - 1s 3ms/step - loss: 0.1204 - accuracy: 0.9675\n",
      "Epoch 10/10\n",
      "245/245 [==============================] - 1s 3ms/step - loss: 0.1093 - accuracy: 0.9709\n"
     ]
    },
    {
     "data": {
      "text/plain": [
       "<keras.callbacks.History at 0x20e32c2a6b0>"
      ]
     },
     "execution_count": 5,
     "metadata": {},
     "output_type": "execute_result"
    }
   ],
   "source": [
    "model = keras.Sequential(\n",
    "  tf.keras.layers.Dense(1, input_shape=(784,), activation='linear', kernel_regularizer=regularizers.l2(0.0003))\n",
    ")\n",
    "\n",
    "model.compile(tf.keras.optimizers.Adam(learning_rate=0.0001), loss='binary_crossentropy', metrics=['accuracy'])\n",
    "\n",
    "model.fit(\n",
    "  x=x_train_norm,\n",
    "  y=y_train_final,\n",
    "  shuffle=True,\n",
    "  epochs=10,\n",
    "  batch_size=48\n",
    ")"
   ]
  },
  {
   "cell_type": "markdown",
   "id": "8d0a951e",
   "metadata": {},
   "source": [
    "Interestingly enough the regularization improved the training rate noticably. In 5 epochs, the non regularized model reached ~85% accuracy while in the same amount of training time, the regularized model attained ~95% accuracy. The results with the training data also show similar performance."
   ]
  },
  {
   "cell_type": "code",
   "execution_count": 6,
   "id": "1371784e",
   "metadata": {},
   "outputs": [
    {
     "name": "stdout",
     "output_type": "stream",
     "text": [
      "61/61 [==============================] - 0s 2ms/step - loss: 0.1595 - accuracy: 0.9691\n"
     ]
    }
   ],
   "source": [
    "eval = model.evaluate(x=x_test_norm, y=y_test_final)"
   ]
  },
  {
   "cell_type": "markdown",
   "id": "5feb9969",
   "metadata": {},
   "source": [
    "In both cases, the performance on training data matched the performance on testing data pretty closley. The point of regularization is to avoid overfitting for a particular dataset and to be more generally viable, but it doesn't seem like we are able to effectivley demonstate that here.\n",
    "\n",
    "Lets see what happens when we crank the regularization amount."
   ]
  },
  {
   "cell_type": "code",
   "execution_count": 7,
   "id": "ab572943",
   "metadata": {
    "scrolled": true
   },
   "outputs": [
    {
     "name": "stdout",
     "output_type": "stream",
     "text": [
      "Epoch 1/10\n",
      "245/245 [==============================] - 2s 3ms/step - loss: 3.0682 - accuracy: 0.4953\n",
      "Epoch 2/10\n",
      "245/245 [==============================] - 1s 3ms/step - loss: 1.5117 - accuracy: 0.6086\n",
      "Epoch 3/10\n",
      "245/245 [==============================] - 1s 3ms/step - loss: 0.9579 - accuracy: 0.7128\n",
      "Epoch 4/10\n",
      "245/245 [==============================] - 1s 3ms/step - loss: 0.7201 - accuracy: 0.7757\n",
      "Epoch 5/10\n",
      "245/245 [==============================] - 1s 3ms/step - loss: 0.6223 - accuracy: 0.8109\n",
      "Epoch 6/10\n",
      "245/245 [==============================] - 1s 3ms/step - loss: 0.5460 - accuracy: 0.8367\n",
      "Epoch 7/10\n",
      "245/245 [==============================] - 1s 3ms/step - loss: 0.4913 - accuracy: 0.8550\n",
      "Epoch 8/10\n",
      "245/245 [==============================] - 1s 3ms/step - loss: 0.4561 - accuracy: 0.8700\n",
      "Epoch 9/10\n",
      "245/245 [==============================] - 1s 3ms/step - loss: 0.4264 - accuracy: 0.8814\n",
      "Epoch 10/10\n",
      "245/245 [==============================] - 1s 3ms/step - loss: 0.4024 - accuracy: 0.8917\n"
     ]
    },
    {
     "data": {
      "text/plain": [
       "<keras.callbacks.History at 0x20e357b4af0>"
      ]
     },
     "execution_count": 7,
     "metadata": {},
     "output_type": "execute_result"
    }
   ],
   "source": [
    "model = keras.Sequential(\n",
    "  tf.keras.layers.Dense(1, input_shape=(784,), activation='linear', kernel_regularizer=regularizers.l2(0.1))\n",
    ")\n",
    "\n",
    "model.compile(tf.keras.optimizers.Adam(learning_rate=0.0001), loss='binary_crossentropy', metrics=['accuracy'])\n",
    "\n",
    "model.fit(\n",
    "  x=x_train_norm,\n",
    "  y=y_train_final,\n",
    "  shuffle=True,\n",
    "  epochs=10,\n",
    "  batch_size=48\n",
    ")"
   ]
  },
  {
   "cell_type": "markdown",
   "id": "5a96beac",
   "metadata": {},
   "source": [
    "Evaluating model on the testing data:"
   ]
  },
  {
   "cell_type": "code",
   "execution_count": 8,
   "id": "f1d4573b",
   "metadata": {},
   "outputs": [
    {
     "name": "stdout",
     "output_type": "stream",
     "text": [
      "61/61 [==============================] - 1s 2ms/step - loss: 0.4306 - accuracy: 0.9021\n"
     ]
    }
   ],
   "source": [
    "eval = model.evaluate(x=x_test_norm, y=y_test_final)"
   ]
  },
  {
   "cell_type": "markdown",
   "id": "4586a63a",
   "metadata": {},
   "source": [
    "While it is easy to look at that and say LOOK it performed worse with respect to accuracy! In my opinion this difference in performance is not statistically significant. This training set is only 61 datapoints, as such if it guessed only one more digit correctly, it would have attained 98% accuracy.\n",
    "\n",
    "What is more interesting is how despite attaining the same accuracy rating of 97% in the same amount of time, the losses between the heavily regularized and the slightly regularized one are quite different.\n",
    "\n",
    "In fact the aggressivley regularized model has almost double the loss despite attaining the same accuracy."
   ]
  },
  {
   "cell_type": "code",
   "execution_count": 8,
   "id": "ade60768",
   "metadata": {},
   "outputs": [
    {
     "data": {
      "text/plain": [
       "<Figure size 640x480 with 0 Axes>"
      ]
     },
     "execution_count": 8,
     "metadata": {},
     "output_type": "execute_result"
    },
    {
     "data": {
      "image/png": "[encoded data removed]",
      "text/plain": [
       "<Figure size 640x480 with 1 Axes>"
      ]
     },
     "metadata": {},
     "output_type": "display_data"
    },
    {
     "data": {
      "text/plain": [
       "<Figure size 640x480 with 0 Axes>"
      ]
     },
     "metadata": {},
     "output_type": "display_data"
    }
   ],
   "source": [
    "epochs = np.arange(1,11)\n",
    "noRegLoss = np.array([3.6004,1.1746,0.6921,0.4986,0.4034,0.3719,0.3160,0.2875,0.2599,0.2368])\n",
    "noRegAcc = np.array([0.5113,0.6465,0.7462,0.8071, 0.8479,0.8647,0.8854,0.8984,0.9114,0.9220])\n",
    "\n",
    "smallRegLoss = np.array([0.8655,0.4575,0.3107, 0.2377,0.1916,0.1607,0.1359,0.1114,0.1012,0.0938])\n",
    "smallRegAcc = np.array([0.7450,0.8606,0.9117, 0.9369,0.9524,0.9608,0.9666,0.9704,0.9739,0.9762])\n",
    "\n",
    "bigRegLoss = np.array([1.2692,0.5842,0.4403,0.35720,0.3073,0.2720,0.2427,0.2193,0.2029,0.1886])\n",
    "bigRegAcc = np.array([0.6721,0.8127,0.8765,0.9145,0.9348, 0.9486,0.9576,0.9640, 0.9707,0.9732])\n",
    "\n",
    "fig, ax = plt.subplots()\n",
    "plt.title('Epochs vs Loss')\n",
    "plt.plot(epochs, noRegLoss, label = \"No Regularization\")\n",
    "plt.plot(epochs, smallRegLoss, label = \"Small Regularizing Coefficient\")\n",
    "plt.plot(epochs, bigRegLoss, label = \"Large Regularizing Coefficient\")\n",
    "plt.legend()\n",
    "plt.figure()\n"
   ]
  },
  {
   "cell_type": "markdown",
   "id": "be387225",
   "metadata": {},
   "source": [
    "As can be seen here, regularization seems to have a positive effect on a linear model learning the MNIST dataset. However it is clear that increasing regularization seems to have a negative effect with respect to loss after a certain threshold of regularization is reached."
   ]
  },
  {
   "cell_type": "code",
   "execution_count": 9,
   "id": "29b7a484",
   "metadata": {},
   "outputs": [
    {
     "data": {
      "text/plain": [
       "<matplotlib.legend.Legend at 0x15499b305b0>"
      ]
     },
     "execution_count": 9,
     "metadata": {},
     "output_type": "execute_result"
    },
    {
     "data": {
      "image/png": "[encoded data removed]",
      "text/plain": [
       "<Figure size 640x480 with 1 Axes>"
      ]
     },
     "metadata": {},
     "output_type": "display_data"
    }
   ],
   "source": [
    "fig, ax = plt.subplots()\n",
    "plt.title('Epochs vs Accuracy')\n",
    "plt.plot(epochs, noRegAcc, label = \"No Regularization\")\n",
    "plt.plot(epochs, smallRegAcc, label = \"Small Regularizing Coefficient\")\n",
    "plt.plot(epochs, bigRegAcc, label = \"Large Regularizing Coefficient\")\n",
    "plt.legend()"
   ]
  },
  {
   "cell_type": "markdown",
   "id": "f7c70a80",
   "metadata": {},
   "source": [
    "While Regularization made little effect in terms of loss reduction, regularization seems to result in a fairly dramatic uplift in prediction accuracy. The learning rate seems uniform across all 3 trials, but in all 3 cases regularization performed markedly better on the testing data. Although setting the regularization coefficient high did degrade performance, doing so still was much less of a performance hit than not having regularization at all."
   ]
  },
  {
   "cell_type": "code",
   "execution_count": null,
   "id": "50889a36",
   "metadata": {},
   "outputs": [],
   "source": []
  },
  {
   "cell_type": "code",
   "execution_count": null,
   "id": "5a61c01c",
   "metadata": {},
   "outputs": [],
   "source": []
  },
  {
   "cell_type": "markdown",
   "id": "76e7fd85",
   "metadata": {},
   "source": [
    "Down below, is my failed attempt to program the required loss function and accuracy function. While it may not look like much, I spent many many hours debugging it and ultimatly I could not find the cause of the accuracy function not working. Learning rate, regularization rate, and batch size all had no effect on the accuracy rating never exceeding 0.5 or just staying at a static value of 0.0.\n",
    "\n",
    "Without that working, I was unable to conduct tests on the testing data or generate reasonable metrics besides plotting the logistic loss.\n",
    "\n",
    "The code as its written below, the accuracy function simply never counts up. It registers all predictions as incorrect. I cannot discern why, as logically the tf.math.equal function should generate a list of booleans, which when cast to a float could be averaged to find the percent of true versus false."
   ]
  },
  {
   "cell_type": "code",
   "execution_count": null,
   "id": "5029e108",
   "metadata": {},
   "outputs": [],
   "source": [
    "def logistic_loss_fn(y_true, y_pred):\n",
    "    loss = tf.math.log(tf.add(1.0,tf.math.exp(tf.math.multiply(tf.math.multiply(-1.0,y_true),y_pred))))\n",
    "    return tf.reduce_mean(loss,axis = -1)\n",
    "def accuracy_fn(y_true, y_pred):\n",
    "    equality = tf.math.equal(y_true, y_pred)\n",
    "    accuracy = tf.math.reduce_mean(tf.cast(equality, tf.float64), axis=-1)\n",
    "    return accuracy\n",
    "    "
   ]
  },
  {
   "cell_type": "code",
   "execution_count": null,
   "id": "34bc8e93",
   "metadata": {
    "scrolled": true
   },
   "outputs": [],
   "source": [
    "#Load Dataset\n",
    "mnist = keras.datasets.mnist\n",
    "\n",
    "(x_train_raw, y_train_raw),(x_test_raw, y_test_raw) = mnist.load_data()\n",
    "\n",
    "# V = V00836246, therefore our classes are 4 and 6 \n",
    "\n",
    "# Note that this block of code grabs all of the 28x28 images which are either a 4 or a 6, and discards the rest.\n",
    "x_train_new, y_train_new = x_train_raw[(y_train_raw==4) | (y_train_raw==6)], y_train_raw[(y_train_raw==4) | (y_train_raw==6)]\n",
    "x_train_final = x_train_new.reshape((-1, 784))\n",
    "# Here we print the first ten datapoints to ensure our dataset is properly pruned.\n",
    "print(y_train_new[0:10])\n",
    "\n",
    "# Here we apply the same procedure to the testing data.\n",
    "x_test_new, y_test_new = x_test_raw[(y_test_raw==4) | (y_test_raw==6)], y_test_raw[(y_test_raw==4) | (y_test_raw==6)]\n",
    "x_test_final = x_test_new.reshape((-1, 784))\n",
    "\n",
    "# One last bit of data preprocessing. First we normalize the pixels of the x data:\n",
    "\n",
    "x_train_norm = x_train_final / 255\n",
    "x_test_norm = x_test_final / 255\n",
    "\n",
    "print(type(x_train_norm))\n",
    "\n",
    "# Next I want to transform the y training from 4s and 6s into boolean true and false statements. 4 being false, and\n",
    "# 6 being true. This distinction is arbitrary.\n",
    "y_train_final = np.zeros(y_train_new.shape[0])\n",
    "y_test_final = np.zeros(y_test_new.shape[0])\n",
    "threshold = 5.0\n",
    "for i in range(y_train_new.shape[0]):\n",
    "        if y_train_new[i]>threshold:\n",
    "            y_train_final[i] = 1\n",
    "        else:\n",
    "            y_train_final[i] = -1\n",
    "for i in range(y_test_new.shape[0]):\n",
    "        if y_test_new[i]>threshold:\n",
    "            y_test_final[i] = 1\n",
    "        else:\n",
    "            y_test_final[i] = -1\n",
    "    \n",
    "# convert all data to tensors\n",
    "x_train_norm = tf.convert_to_tensor(x_train_norm,dtype=tf.float64)\n",
    "x_test_norm = tf.convert_to_tensor(x_test_norm,dtype=tf.float64)\n",
    "y_train_final = tf.convert_to_tensor(y_train_final,dtype=tf.float64)\n",
    "y_test_final = tf.convert_to_tensor(y_test_final,dtype=tf.float64)\n",
    "print(y_train_final[0:10])\n",
    "\n",
    "\n",
    "\n",
    "model = keras.Sequential(\n",
    "  tf.keras.layers.Dense(1, input_shape=(784,), activation='linear', kernel_regularizer=regularizers.l2(l2=0.0001))\n",
    ")\n",
    "\n",
    "model.compile(optimizer=tf.keras.optimizers.Adam(learning_rate=0.0001),\n",
    "              loss=logistic_loss_fn, metrics=[accuracy_fn])\n",
    "\n",
    "model.fit(\n",
    "  x=x_train_norm,\n",
    "  y=y_train_final,\n",
    "  shuffle=True,\n",
    "  epochs=5,\n",
    "  batch_size=16\n",
    ")"
   ]
  },
  {
   "cell_type": "code",
   "execution_count": null,
   "id": "4021f28d",
   "metadata": {},
   "outputs": [],
   "source": []
  },
  {
   "cell_type": "code",
   "execution_count": null,
   "id": "59ed0c33",
   "metadata": {},
   "outputs": [],
   "source": []
  }
 ],
 "metadata": {
  "kernelspec": {
   "display_name": "Python 3 (ipykernel)",
   "language": "python",
   "name": "python3"
  },
  "language_info": {
   "codemirror_mode": {
    "name": "ipython",
    "version": 3
   },
   "file_extension": ".py",
   "mimetype": "text/x-python",
   "name": "python",
   "nbconvert_exporter": "python",
   "pygments_lexer": "ipython3",
   "version": "3.10.6"
  }
 },
 "nbformat": 4,
 "nbformat_minor": 5
}
